{
 "cells": [
  {
   "cell_type": "markdown",
   "id": "c52407fc",
   "metadata": {},
   "source": [
    "# Primer exercici\n"
   ]
  },
  {
   "cell_type": "code",
   "execution_count": 12,
   "id": "38ce8555",
   "metadata": {},
   "outputs": [],
   "source": [
    "user=\"pepe\""
   ]
  },
  {
   "cell_type": "code",
   "execution_count": 13,
   "id": "9a78c9cf",
   "metadata": {},
   "outputs": [
    {
     "name": "stdout",
     "output_type": "stream",
     "text": [
      "pepe\n"
     ]
    }
   ],
   "source": [
    "print (user)"
   ]
  },
  {
   "cell_type": "markdown",
   "id": "6b13e42e",
   "metadata": {},
   "source": [
    "<font color=red>Nou apartat</font>"
   ]
  },
  {
   "cell_type": "markdown",
   "id": "df07803d",
   "metadata": {},
   "source": [
    "<img src=\"https://extranet.gaolos.com/images/logo-gaolos-2017.svg\" alt=\"Text alternatiu\" title=\"titul\">"
   ]
  },
  {
   "cell_type": "markdown",
   "id": "c06decf7",
   "metadata": {},
   "source": [
    "1. Opció 1\n",
    "2. Opció 2\n",
    "3. Opció 3"
   ]
  },
  {
   "cell_type": "markdown",
   "id": "f417b3d8",
   "metadata": {},
   "source": [
    "- aaa\n",
    "- bbb\n",
    "- ccc\n",
    "- ddd"
   ]
  },
  {
   "cell_type": "code",
   "execution_count": null,
   "id": "9ab04bb7",
   "metadata": {},
   "outputs": [],
   "source": []
  }
 ],
 "metadata": {
  "kernelspec": {
   "display_name": "Python 3 (ipykernel)",
   "language": "python",
   "name": "python3"
  },
  "language_info": {
   "codemirror_mode": {
    "name": "ipython",
    "version": 3
   },
   "file_extension": ".py",
   "mimetype": "text/x-python",
   "name": "python",
   "nbconvert_exporter": "python",
   "pygments_lexer": "ipython3",
   "version": "3.9.12"
  }
 },
 "nbformat": 4,
 "nbformat_minor": 5
}
